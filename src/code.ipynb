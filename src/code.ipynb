{
 "cells": [
  {
   "cell_type": "code",
   "execution_count": 1,
   "id": "6ca64229-0ac0-49b1-a035-92b5bd5db71c",
   "metadata": {},
   "outputs": [],
   "source": [
    "import Bio"
   ]
  },
  {
   "cell_type": "code",
   "execution_count": 2,
   "id": "765c7955-9234-416e-b6cc-f58359033e88",
   "metadata": {},
   "outputs": [],
   "source": [
    "from Bio import SeqIO"
   ]
  },
  {
   "cell_type": "markdown",
   "id": "fbb551b1-761b-4277-ba16-059b98ebfd8e",
   "metadata": {},
   "source": [
    "Общие функции"
   ]
  },
  {
   "cell_type": "code",
   "execution_count": 3,
   "id": "8583a748-f017-4b84-ad99-5f0767334ab7",
   "metadata": {},
   "outputs": [],
   "source": [
    "def analise(file, type_of_data):\n",
    "    seq_cnt = 0\n",
    "    total_len = 0\n",
    "    lens = []\n",
    "    max_len = 0\n",
    "    for i in SeqIO.parse(file, 'fasta'):\n",
    "        seq_cnt += 1\n",
    "        lens.append(len(i.seq))\n",
    "        total_len += len(i.seq)\n",
    "        if len(i.seq) > max_len:\n",
    "            max_len = len(i.seq)\n",
    "            longest = i\n",
    "    lens.sort(reverse=True)\n",
    "    total_curr = 0\n",
    "    N50 = 0\n",
    "    for i in lens:\n",
    "        total_curr += i\n",
    "        if total_curr >= total_len / 2:\n",
    "            N50 = i\n",
    "            break\n",
    "    print('Число %sов:' % type_of_data,seq_cnt)\n",
    "    print('Общая длина:', total_len)\n",
    "    print('Длина самого длинного %sа:' % type_of_data, max_len)\n",
    "    print('N50:', N50)\n",
    "    return longest"
   ]
  },
  {
   "cell_type": "code",
   "execution_count": 4,
   "id": "4e0bfe91-2273-43a6-b31e-da4d6a4cbe71",
   "metadata": {},
   "outputs": [],
   "source": [
    "def longest_analise(longest):\n",
    "    cnt = 0\n",
    "    total_len = 0\n",
    "    gap = False\n",
    "    for i in longest.seq:\n",
    "        if i == 'N':\n",
    "            if not gap:\n",
    "                gap = True\n",
    "                cnt += 1\n",
    "            total_len += 1\n",
    "        elif gap:\n",
    "            gap = False\n",
    "    print('Количество гэпов:', cnt)\n",
    "    print('Общая длина гэпов:', total_len)"
   ]
  },
  {
   "cell_type": "markdown",
   "id": "deab68f5-c857-4da7-9170-f2405355c2fe",
   "metadata": {},
   "source": [
    "Анализ контигов"
   ]
  },
  {
   "cell_type": "code",
   "execution_count": 5,
   "id": "08b6c934-5273-4849-a8f4-466e667195a1",
   "metadata": {},
   "outputs": [
    {
     "name": "stdout",
     "output_type": "stream",
     "text": [
      "Число контигов: 602\n",
      "Общая длина: 3924522\n",
      "Длина самого длинного контига: 135084\n",
      "N50: 52799\n"
     ]
    }
   ],
   "source": [
    "_ = analise('../data/contigs.fa', 'контиг')"
   ]
  },
  {
   "cell_type": "markdown",
   "id": "e12b2e61-5431-4ccb-b296-ac3528404737",
   "metadata": {},
   "source": [
    "Анализ скаффолдов"
   ]
  },
  {
   "cell_type": "code",
   "execution_count": 6,
   "id": "dca593bc-7baf-47d5-b34a-e1ad861769d1",
   "metadata": {},
   "outputs": [
    {
     "name": "stdout",
     "output_type": "stream",
     "text": [
      "Число скаффолдов: 70\n",
      "Общая длина: 3875468\n",
      "Длина самого длинного скаффолда: 3833949\n",
      "N50: 3833949\n"
     ]
    }
   ],
   "source": [
    "longest = analise('../data/untrimmed_scaffolds.fa', 'скаффолд')"
   ]
  },
  {
   "cell_type": "code",
   "execution_count": 7,
   "id": "fe536d32-54d4-4e50-8032-46e9ac83555d",
   "metadata": {},
   "outputs": [
    {
     "name": "stdout",
     "output_type": "stream",
     "text": [
      "Количество гэпов: 60\n",
      "Общая длина гэпов: 6197\n"
     ]
    }
   ],
   "source": [
    "longest_analise(longest)"
   ]
  },
  {
   "cell_type": "markdown",
   "id": "cde56ea6-e1b1-4095-aae4-b62f888e0caa",
   "metadata": {},
   "source": [
    "После gap closed:"
   ]
  },
  {
   "cell_type": "code",
   "execution_count": 8,
   "id": "65e0317b-0974-4414-994c-2162c5008b95",
   "metadata": {},
   "outputs": [
    {
     "name": "stdout",
     "output_type": "stream",
     "text": [
      "Число скаффолдов: 70\n",
      "Общая длина: 3916911\n",
      "Длина самого длинного скаффолда: 3875059\n",
      "N50: 3875059\n"
     ]
    }
   ],
   "source": [
    "longest = analise('../data/scaffolds.fa', 'скаффолд')"
   ]
  },
  {
   "cell_type": "code",
   "execution_count": 9,
   "id": "1c78a7ce-7937-4fda-83e9-5aa09846d18d",
   "metadata": {},
   "outputs": [
    {
     "name": "stdout",
     "output_type": "stream",
     "text": [
      "Количество гэпов: 9\n",
      "Общая длина гэпов: 1684\n"
     ]
    }
   ],
   "source": [
    "longest_analise(longest)"
   ]
  },
  {
   "cell_type": "code",
   "execution_count": 10,
   "id": "317ff2ba-ef3a-4de4-b10c-3ce566de4213",
   "metadata": {},
   "outputs": [
    {
     "data": {
      "text/plain": [
       "1"
      ]
     },
     "execution_count": 10,
     "metadata": {},
     "output_type": "execute_result"
    }
   ],
   "source": [
    "Bio.SeqIO.write(longest, '../data/longest.fa', 'fasta')"
   ]
  },
  {
   "cell_type": "code",
   "execution_count": null,
   "id": "0f3145ad-c656-4be1-9bf6-aa1ff802e4e2",
   "metadata": {},
   "outputs": [],
   "source": []
  }
 ],
 "metadata": {
  "kernelspec": {
   "display_name": "Python 3",
   "language": "python",
   "name": "python3"
  },
  "language_info": {
   "codemirror_mode": {
    "name": "ipython",
    "version": 3
   },
   "file_extension": ".py",
   "mimetype": "text/x-python",
   "name": "python",
   "nbconvert_exporter": "python",
   "pygments_lexer": "ipython3",
   "version": "3.8.8"
  }
 },
 "nbformat": 4,
 "nbformat_minor": 5
}
